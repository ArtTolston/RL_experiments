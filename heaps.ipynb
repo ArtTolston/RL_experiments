{
 "cells": [
  {
   "cell_type": "code",
   "execution_count": 8,
   "id": "81cea419-034a-422e-8fc9-99cce3d15985",
   "metadata": {},
   "outputs": [],
   "source": [
    "from queue import PriorityQueue\n",
    "import heapq\n",
    "\n",
    "q = PriorityQueue()\n",
    "q.put(3)\n",
    "q.put(2)\n",
    "q.put(5)\n",
    "q.put(1)"
   ]
  },
  {
   "cell_type": "code",
   "execution_count": null,
   "id": "d2c722c3-9a5a-46c4-b60a-dc134cf8d4fd",
   "metadata": {},
   "outputs": [],
   "source": [
    "q.get()"
   ]
  },
  {
   "cell_type": "code",
   "execution_count": 16,
   "id": "30ada380-aaa5-41df-9ff1-62d5bef3d8c1",
   "metadata": {},
   "outputs": [
    {
     "data": {
      "text/plain": [
       "[1, 2, 4, 7, 6, 9, 5, 8]"
      ]
     },
     "execution_count": 16,
     "metadata": {},
     "output_type": "execute_result"
    }
   ],
   "source": [
    "heap = [4, 2, 5, 1,6, 9,1, 7]\n",
    "heapq.heapify(heap)\n",
    "heapq.heappush(heap, 8)\n",
    "heapq.heappop(heap)\n",
    "heap"
   ]
  }
 ],
 "metadata": {
  "kernelspec": {
   "display_name": "Python 3 (ipykernel)",
   "language": "python",
   "name": "python3"
  },
  "language_info": {
   "codemirror_mode": {
    "name": "ipython",
    "version": 3
   },
   "file_extension": ".py",
   "mimetype": "text/x-python",
   "name": "python",
   "nbconvert_exporter": "python",
   "pygments_lexer": "ipython3",
   "version": "3.8.5"
  }
 },
 "nbformat": 4,
 "nbformat_minor": 5
}
