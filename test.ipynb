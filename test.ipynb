{
 "cells": [
  {
   "cell_type": "code",
   "execution_count": 17,
   "id": "91fe02d9-7e48-4d2f-b006-da17c5d21748",
   "metadata": {},
   "outputs": [],
   "source": [
    "import torch\n",
    "import torch.nn as nn\n",
    "from torch.utils.data import DataLoader, Dataset\n",
    "\n",
    "from torch.optim import Adam\n",
    "\n",
    "class test(nn.Module):\n",
    "    def __init__(self):\n",
    "        super().__init__()\n",
    "        self.net = nn.Sequential(\n",
    "            nn.Linear(2, 16),\n",
    "            \n",
    "        )"
   ]
  },
  {
   "cell_type": "code",
   "execution_count": 26,
   "id": "2bb1eaa3-4d8e-4926-963e-4432fe633014",
   "metadata": {},
   "outputs": [
    {
     "name": "stdout",
     "output_type": "stream",
     "text": [
      "tensor([[  9.8000,  -2.4000,   9.0000],\n",
      "        [ 30.5000,  40.0000, -33.1000]])\n"
     ]
    },
    {
     "data": {
      "text/plain": [
       "tensor([[ 0.7777, -1.4118,  0.6341],\n",
       "        [ 0.5557,  0.8484, -1.4041]], grad_fn=<NativeLayerNormBackward0>)"
      ]
     },
     "execution_count": 26,
     "metadata": {},
     "output_type": "execute_result"
    }
   ],
   "source": [
    "W = torch.tensor([[1, 2, 9],[4, -2, 0], [3, 6, -2]], dtype=torch.float32)\n",
    "x = torch.tensor([[1.0, 2.2, 0], [-1.9, 2.1, 8]], dtype=torch.float32)\n",
    "print(x@W)\n",
    "y = x@W\n",
    "batch_size, p_size = y.shape\n",
    "l = nn.LayerNorm(p_size)\n",
    "l(y)"
   ]
  },
  {
   "cell_type": "code",
   "execution_count": 15,
   "id": "c9b62222-ee42-4f15-970d-bb1976dad5f9",
   "metadata": {},
   "outputs": [
    {
     "data": {
      "text/plain": [
       "tensor([-0.0605,  1.0289, -0.9684])"
      ]
     },
     "execution_count": 15,
     "metadata": {},
     "output_type": "execute_result"
    }
   ],
   "source": [
    "(x[0] - x[0].mean()) / (x[0].var()) ** 0.5"
   ]
  },
  {
   "cell_type": "code",
   "execution_count": 13,
   "id": "38da5479-a4df-4b81-8a76-67223ed53f4b",
   "metadata": {},
   "outputs": [
    {
     "name": "stdout",
     "output_type": "stream",
     "text": [
      "tensor([1., 1., 1.])\n",
      "tensor([0., 0., 0.])\n"
     ]
    }
   ],
   "source": [
    "for param in l.parameters():\n",
    "    print(param.data)"
   ]
  },
  {
   "cell_type": "code",
   "execution_count": 67,
   "id": "c8e816ca-482b-450d-b3de-2a5f4b8029ff",
   "metadata": {},
   "outputs": [
    {
     "data": {
      "text/plain": [
       "torch.Size([3, 2, 1, 1, 3])"
      ]
     },
     "execution_count": 67,
     "metadata": {},
     "output_type": "execute_result"
    }
   ],
   "source": [
    "a = torch.tensor([[[1,2,4]]])\n",
    "b = torch.tensor([[[4,1,5]]])\n",
    "c = torch.tensor([[[8,8,8]]])\n",
    "d = torch.tensor([[[9,9,9]]])\n",
    "torch.concatenate((a, b, c), dim=1)\n",
    "stacked1 = torch.stack((a,b), dim=0)\n",
    "stacked2 = torch.stack((c,d), dim=0)\n",
    "s2 = torch.stack((stacked1, stacked2), dim=0)\n",
    "torch.cat((s2, stacked2.unsqueeze(dim=0)), dim=0).shape"
   ]
  },
  {
   "cell_type": "code",
   "execution_count": 73,
   "id": "a3d3eebf-f51d-4ce4-b236-ee36a1a6bf31",
   "metadata": {},
   "outputs": [
    {
     "data": {
      "text/plain": [
       "1"
      ]
     },
     "execution_count": 73,
     "metadata": {},
     "output_type": "execute_result"
    }
   ],
   "source": [
    "a[0][0][0].numpy().reshape(-1)[0]"
   ]
  },
  {
   "cell_type": "code",
   "execution_count": 83,
   "id": "e53d29e4-809e-4085-88b2-0c0e2b8489bb",
   "metadata": {},
   "outputs": [],
   "source": [
    "l = nn.Linear(2, 16)\n",
    "y = l(torch.tensor([1,5.0]))\n",
    "loss = torch.mean(y)\n",
    "loss.backward()"
   ]
  },
  {
   "cell_type": "code",
   "execution_count": 85,
   "id": "9dc4a9a1-6a44-4b78-91d2-12e9ba52a910",
   "metadata": {},
   "outputs": [
    {
     "data": {
      "text/plain": [
       "torch.Size([16, 2])"
      ]
     },
     "execution_count": 85,
     "metadata": {},
     "output_type": "execute_result"
    }
   ],
   "source": [
    "l.weight.grad.shape"
   ]
  },
  {
   "cell_type": "code",
   "execution_count": 79,
   "id": "1649afbe-b5a9-4d99-8678-6357a650388f",
   "metadata": {},
   "outputs": [
    {
     "data": {
      "text/plain": [
       "torch.Size([1, 1, 1, 3])"
      ]
     },
     "execution_count": 79,
     "metadata": {},
     "output_type": "execute_result"
    }
   ],
   "source": [
    "stacked1[1:]"
   ]
  },
  {
   "cell_type": "code",
   "execution_count": 32,
   "id": "6c92493c-4f2d-4409-b5de-7189e8199d66",
   "metadata": {},
   "outputs": [
    {
     "name": "stdout",
     "output_type": "stream",
     "text": [
      "torch.Size([14, 2, 1])\n",
      "torch.Size([14, 1])\n",
      "tensor([[ 0.5102],\n",
      "        [-0.0496],\n",
      "        [ 0.6776],\n",
      "        [ 0.1651],\n",
      "        [ 0.3562]], grad_fn=<StackBackward0>)\n",
      "tensor([[-0.2406],\n",
      "        [ 0.6292],\n",
      "        [-0.2333],\n",
      "        [ 0.9126],\n",
      "        [ 0.4976]], grad_fn=<StackBackward0>)\n",
      "tensor([[-0.4284],\n",
      "        [ 0.1172],\n",
      "        [-0.4580],\n",
      "        [ 0.4414]], grad_fn=<StackBackward0>)\n"
     ]
    }
   ],
   "source": [
    "bs = 5\n",
    "q = torch.rand((bs, 1))\n",
    "t = torch.rand((bs, 1))\n",
    "\n",
    "l = nn.Linear(1, 1)\n",
    "q = l(q)\n",
    "\n",
    "q1 = torch.rand((bs +4, 1))\n",
    "t1 = torch.rand((bs +4, 1))\n",
    "\n",
    "stacked = torch.stack((q, t), dim=1)\n",
    "stacked1 = torch.stack((q1, t1), dim=1)\n",
    "\n",
    "ds = torch.cat((stacked, stacked1), dim=0)\n",
    "print(ds.shape)\n",
    "X = ds[:, 0]\n",
    "y = ds[:, 1]\n",
    "print(X.shape)\n",
    "\n",
    "train_loader = DataLoader(list(zip(X, y)), batch_size=5, shuffle=True)\n",
    "for x_batch, y_batch in train_loader:\n",
    "    print(x_batch)\n",
    "    x_batch\n"
   ]
  }
 ],
 "metadata": {
  "kernelspec": {
   "display_name": "Python 3 (ipykernel)",
   "language": "python",
   "name": "python3"
  },
  "language_info": {
   "codemirror_mode": {
    "name": "ipython",
    "version": 3
   },
   "file_extension": ".py",
   "mimetype": "text/x-python",
   "name": "python",
   "nbconvert_exporter": "python",
   "pygments_lexer": "ipython3",
   "version": "3.8.5"
  }
 },
 "nbformat": 4,
 "nbformat_minor": 5
}
