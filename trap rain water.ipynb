{
 "cells": [
  {
   "cell_type": "code",
   "execution_count": 22,
   "id": "3c11baa3-8de3-4f41-9eef-d9391eab5897",
   "metadata": {},
   "outputs": [
    {
     "name": "stdout",
     "output_type": "stream",
     "text": [
      "0\n",
      "[0, 1]\n",
      "0\n",
      "[0, 1, 2]\n",
      "0\n",
      "[0, 1, 2, 3]\n",
      "0\n",
      "[0, 1, 2, 3, 4]\n",
      "10\n",
      "[0, 1, 2, 5]\n",
      "15\n",
      "[0, 6]\n"
     ]
    },
    {
     "data": {
      "text/plain": [
       "15"
      ]
     },
     "execution_count": 22,
     "metadata": {},
     "output_type": "execute_result"
    }
   ],
   "source": [
    "def trap(height):\n",
    "    if len(height) == 1:\n",
    "        return 0\n",
    "\n",
    "    stack = []\n",
    "\n",
    "    water = 0\n",
    "\n",
    "    for i in range(len(height)):\n",
    "        if len(stack) == 0:\n",
    "            stack.append(i)\n",
    "            continue\n",
    "        \n",
    "        if height[i] < height[stack[-1]]:\n",
    "            stack.append(i)\n",
    "        elif height[i] > height[stack[-1]]:\n",
    "            bottom_height = 0\n",
    "            j = 0\n",
    "            while height[i] > height[stack[-1]]:\n",
    "                last = stack.pop()\n",
    "                if j == 0:\n",
    "                    bottom_height = height[last]\n",
    "                else:\n",
    "                    water += (height[last] - bottom_height) * (i - last - 1)\n",
    "                    bottom_height = height[last]\n",
    "                j += 1\n",
    "                if len(stack) == 0:\n",
    "                    break\n",
    "\n",
    "            if len(stack) != 0:\n",
    "                water += (height[i] - bottom_height) * (i - stack[-1] - 1)\n",
    "                if height[i] <= height[stack[-1]]:\n",
    "                    stack.append(i)\n",
    "            else:\n",
    "                stack.append(i)\n",
    "            \n",
    "        else:\n",
    "            stack.append(i)\n",
    "        print(water)\n",
    "        print(stack)\n",
    "\n",
    "    return water\n",
    "\n",
    "trap([7, 5 ,5, 0, 0, 5,6])\n",
    "                "
   ]
  }
 ],
 "metadata": {
  "kernelspec": {
   "display_name": "Python 3 (ipykernel)",
   "language": "python",
   "name": "python3"
  },
  "language_info": {
   "codemirror_mode": {
    "name": "ipython",
    "version": 3
   },
   "file_extension": ".py",
   "mimetype": "text/x-python",
   "name": "python",
   "nbconvert_exporter": "python",
   "pygments_lexer": "ipython3",
   "version": "3.8.5"
  }
 },
 "nbformat": 4,
 "nbformat_minor": 5
}
