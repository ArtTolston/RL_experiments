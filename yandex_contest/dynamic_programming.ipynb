{
 "cells": [
  {
   "cell_type": "markdown",
   "id": "2095e03c",
   "metadata": {},
   "source": [
    "#### LCS"
   ]
  },
  {
   "cell_type": "code",
   "execution_count": 29,
   "id": "d64f45df",
   "metadata": {},
   "outputs": [
    {
     "data": {
      "text/plain": [
       "['c', 'd', 'f', 'k']"
      ]
     },
     "execution_count": 29,
     "metadata": {},
     "output_type": "execute_result"
    }
   ],
   "source": [
    "import copy\n",
    "a = 'akcdelfkjq'\n",
    "b = 'bacdgmfk'\n",
    "\n",
    "d = [[0 for j in range(len(b) + 1)] for i in range(len(a) + 1)]\n",
    "path = copy.deepcopy(d)\n",
    "\n",
    "for i in range(1, len(a) + 1):\n",
    "    for j in range(1, len(b) + 1):\n",
    "        if a[i - 1] == b[j - 1]:\n",
    "            d[i][j] = d[i - 1][j - 1] + 1\n",
    "            path[i][j] = (i - 1, j - 1)\n",
    "        else:\n",
    "            d[i][j] = max(d[i - 1][j], d[i][j - 1])\n",
    "            if d[i - 1][j] > d[i][j - 1]:\n",
    "                path[i][j] = (i - 1, j)\n",
    "            else:\n",
    "                path[i][j] = (i, j - 1)\n",
    "lcs = []\n",
    "d\n",
    "next_i, next_j = len(path), len(path[0])\n",
    "i, j = path[-1][-1]\n",
    "\n",
    "while i != 1 and j != 1:\n",
    "    if next_i == i + 1 and next_j == j + 1:\n",
    "        lcs.append(a[next_i - 1])\n",
    "    next_i, next_j = i, j\n",
    "    i, j = path[i][j]\n",
    "lcs.reverse()\n",
    "lcs"
   ]
  },
  {
   "cell_type": "markdown",
   "id": "c2d2b3d6",
   "metadata": {},
   "source": [
    "### Levenshtein distance"
   ]
  },
  {
   "cell_type": "code",
   "execution_count": 45,
   "id": "f67d183b",
   "metadata": {},
   "outputs": [
    {
     "data": {
      "text/plain": [
       "[[0, 0, 0, 0, 0, 0],\n",
       " [0, 0, 1, 1, 1, 1],\n",
       " [0, 0, 1, 2, 2, 2],\n",
       " [0, 1, 1, 2, 3, 3],\n",
       " [0, 1, 1, 2, 2, 3],\n",
       " [0, 1, 2, 2, 3, 2]]"
      ]
     },
     "execution_count": 45,
     "metadata": {},
     "output_type": "execute_result"
    }
   ],
   "source": [
    "import copy\n",
    "a = 'aakbc'\n",
    "b = 'ablbc'\n",
    "\n",
    "d = [[0 for j in range(len(b) + 1)] for i in range(len(a) + 1)]\n",
    "path = copy.deepcopy(d)\n",
    "\n",
    "for i in range(1, len(a) + 1):\n",
    "    for j in range(1, len(b) + 1):\n",
    "        if a[i - 1] == b[j - 1]:\n",
    "            d[i][j] = d[i - 1][j - 1]\n",
    "            path[i][j] = (i - 1, j - 1)\n",
    "        else:\n",
    "            d[i][j] = min(d[i - 1][j], d[i][j - 1], d[i - 1][j - 1]) + 1\n",
    "            if d[i - 1][j] > d[i][j - 1]:\n",
    "                path[i][j] = (i - 1, j)\n",
    "            else:\n",
    "                path[i][j] = (i, j - 1)\n",
    "d"
   ]
  }
 ],
 "metadata": {
  "kernelspec": {
   "display_name": "Python 3 (ipykernel)",
   "language": "python",
   "name": "python3"
  },
  "language_info": {
   "codemirror_mode": {
    "name": "ipython",
    "version": 3
   },
   "file_extension": ".py",
   "mimetype": "text/x-python",
   "name": "python",
   "nbconvert_exporter": "python",
   "pygments_lexer": "ipython3",
   "version": "3.10.9"
  }
 },
 "nbformat": 4,
 "nbformat_minor": 5
}
