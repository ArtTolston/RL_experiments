{
 "cells": [
  {
   "cell_type": "markdown",
   "id": "f3ff8feb",
   "metadata": {},
   "source": [
    "### task1"
   ]
  },
  {
   "cell_type": "code",
   "execution_count": 15,
   "id": "8ae52846",
   "metadata": {},
   "outputs": [
    {
     "name": "stdout",
     "output_type": "stream",
     "text": [
      "*.*.****\n",
      "**.*****\n",
      "********\n",
      "********\n",
      "********\n",
      "********\n",
      "********\n",
      "********\n",
      "1\n"
     ]
    }
   ],
   "source": [
    "def check_edges(matrix, i, j):\n",
    "    if matrix[i][j] == 1:\n",
    "        return 5\n",
    "    num = 0\n",
    "    # строки\n",
    "    if matrix[i + 1][j] == 1:\n",
    "        num += 1\n",
    "    if matrix[i - 1][j] == 1:\n",
    "        num += 1\n",
    "    if matrix[i][j + 1] == 1:\n",
    "        num += 1\n",
    "    if matrix[i][j - 1] == 1:\n",
    "        num += 1\n",
    "    return num\n",
    "\n",
    "matrix = [[1 for _  in range(10)] for _ in range(10)]\n",
    "matrix\n",
    "\n",
    "for i in range(1, 9):\n",
    "    s = input()\n",
    "    for j in range(1, 9):\n",
    "        if s[j-1] == '.':\n",
    "            matrix[i][j] = 0\n",
    "\n",
    "total_num = 0\n",
    "for i in range(1, 9):\n",
    "    for j in range(1, 9):\n",
    "        num = check_edges(matrix, i, j)\n",
    "        if num == 0:\n",
    "            total_num += 4\n",
    "        elif num == 1:\n",
    "            total_num += 1\n",
    "        else:\n",
    "            pass\n",
    "\n",
    "print(total_num)"
   ]
  },
  {
   "cell_type": "markdown",
   "id": "6b1e7a54",
   "metadata": {},
   "source": [
    "### task 2"
   ]
  },
  {
   "cell_type": "code",
   "execution_count": 19,
   "id": "612e5f81",
   "metadata": {},
   "outputs": [
    {
     "name": "stdout",
     "output_type": "stream",
     "text": [
      "3 1 1\n",
      "1 2 3\n",
      "0\n"
     ]
    }
   ],
   "source": [
    "n, t, s = [int(i) for i in input().split(' ')]\n",
    "\n",
    "v = []\n",
    "vis= [int(i) for i in input().split(' ')]\n",
    "for i in range(len(vis)):\n",
    "    vi = vis[i]\n",
    "    if i > 0:\n",
    "        if vi >= v[0]:\n",
    "            continue\n",
    "    v.append(vi)\n",
    "\n",
    "dist = [t * vi for vi in v]\n",
    "counts = [d // s for d in dist]\n",
    "last = [d % s for d in dist]\n",
    "\n",
    "count0 = counts[0]\n",
    "last0 = last[0]\n",
    "\n",
    "total_overtakes = 0\n",
    "for i in range(1, len(v)):\n",
    "    if last0 > last[i] and count0 > counts[i]:\n",
    "        total_overtakes += count0 - counts[i]\n",
    "    elif last0 <= last[i] and count0 > counts[i]:\n",
    "        total_overtakes += count0 - counts[i] - 1\n",
    "    else:\n",
    "        pass\n",
    "\n",
    "print(total_overtakes)"
   ]
  },
  {
   "cell_type": "markdown",
   "id": "a842b9d5",
   "metadata": {},
   "source": [
    "### Task3"
   ]
  },
  {
   "cell_type": "code",
   "execution_count": 28,
   "id": "08e057c0",
   "metadata": {},
   "outputs": [
    {
     "name": "stdout",
     "output_type": "stream",
     "text": [
      "7\n",
      "7 4 1 2 3 6 5\n",
      "31/3\n"
     ]
    }
   ],
   "source": [
    "def binary_search_count(arr, x):\n",
    "    low = 0\n",
    "    high = len(arr) - 1\n",
    "    mid = 0\n",
    "    \n",
    "    if x < arr[0]:\n",
    "        return len(arr)\n",
    "    \n",
    "    if x == arr[0]:\n",
    "        return len(arr) - 1\n",
    "    \n",
    "    if x > arr[-1]:\n",
    "        return 0\n",
    "    \n",
    "    if x == arr[-1]:\n",
    "        return 0\n",
    " \n",
    "    while low <= high:\n",
    " \n",
    "        mid = (high + low) // 2\n",
    " \n",
    "        # If x is greater, ignore left half\n",
    "        if x > arr[mid]:\n",
    "            low = mid + 1\n",
    " \n",
    "        # If x is smaller, ignore right half\n",
    "        elif x < arr[mid]:\n",
    "            high = mid - 1\n",
    " \n",
    "        # means x is present at mid\n",
    "        else:\n",
    "            return len(arr) - (mid + 1)\n",
    "        \n",
    "    # If we reach here, then the element was not present\n",
    "    return len(arr) - low\n",
    "\n",
    "def nod(a, b):\n",
    "    if b > a:\n",
    "        tmp = a\n",
    "        a = b\n",
    "        b = tmp\n",
    "    r = a % b\n",
    "    while r != 0:\n",
    "        a = b\n",
    "        b = r\n",
    "        r = a % b\n",
    "    return b\n",
    "\n",
    "base_inversions_num = 0\n",
    "\n",
    "n = int(input())\n",
    "\n",
    "nums = [int(i) for i in input().split(' ')]\n",
    "\n",
    "d = {}\n",
    "\n",
    "for i in range(n):\n",
    "    for j in range(0, i):\n",
    "        if nums[j] > nums[i]:\n",
    "            base_inversions_num += 1\n",
    "            if i in d:\n",
    "                d[i].append(j)\n",
    "            else:\n",
    "                d[i] = [j]\n",
    "            \n",
    "total_num_of_permutations = n * (n - 1) / 2\n",
    "\n",
    "diff = 0\n",
    "\n",
    "for i in range(n):\n",
    "    for j in range(0, i):\n",
    "        if nums[j] > nums[i]:\n",
    "            diff -= 1\n",
    "        else:\n",
    "            diff += 1\n",
    "            \n",
    "        if j + 1 == i:\n",
    "            pass\n",
    "        else:\n",
    "            for k in range(j + 1, i):\n",
    "                if nums[k] < nums[i]:\n",
    "                    diff += 1\n",
    "                else:\n",
    "                    diff -= 1\n",
    "                    \n",
    "                if nums[k] > nums[j]:\n",
    "                    diff += 1\n",
    "                else:\n",
    "                    diff -= 1\n",
    "            bsc = binary_search_count(d[i], j)\n",
    "            diff -= bsc\n",
    "            diff += n -bsc\n",
    "            \n",
    "\n",
    "base_inversions_num + diff / total_num_of_permutations\n",
    "nod = nod(total_num_of_permutations * base_inversions_num + diff, total_num_of_permutations)\n",
    "a = int((total_num_of_permutations * base_inversions_num + diff) / nod)\n",
    "b = int((total_num_of_permutations) / nod)\n",
    "print(f'{a}/{b}')"
   ]
  },
  {
   "cell_type": "code",
   "execution_count": 30,
   "id": "83db01d7",
   "metadata": {},
   "outputs": [
    {
     "name": "stdout",
     "output_type": "stream",
     "text": [
      "7\n",
      "7 4 1 2 3 6 5\n",
      "31/3\n"
     ]
    }
   ],
   "source": [
    "def nod(a, b):\n",
    "    if b > a:\n",
    "        tmp = a\n",
    "        a = b\n",
    "        b = tmp\n",
    "    r = a % b\n",
    "    while r != 0:\n",
    "        a = b\n",
    "        b = r\n",
    "        r = a % b\n",
    "    return b\n",
    "\n",
    "base_inversions_num = 0\n",
    "\n",
    "n = int(input())\n",
    "\n",
    "nums = [int(i) for i in input().split(' ')]\n",
    "\n",
    "diff = 0\n",
    "\n",
    "for i in range(n):\n",
    "    for j in range(0, i):\n",
    "        if nums[j] > nums[i]:\n",
    "            base_inversions_num += 1\n",
    "        if nums[j] > nums[i]:\n",
    "            diff -= 1\n",
    "        else:\n",
    "            diff += 1\n",
    "            \n",
    "        if j + 1 == i:\n",
    "            pass\n",
    "        else:\n",
    "            for k in range(j + 1, i):\n",
    "                if nums[k] < nums[i]:\n",
    "                    diff += 1\n",
    "                else:\n",
    "                    diff -= 1\n",
    "                    \n",
    "                if nums[k] > nums[j]:\n",
    "                    diff += 1\n",
    "                else:\n",
    "                    diff -= 1\n",
    "            \n",
    "total_num_of_permutations = n * (n - 1) / 2\n",
    "        \n",
    "\n",
    "base_inversions_num + diff / total_num_of_permutations\n",
    "nod = nod(total_num_of_permutations * base_inversions_num + diff, total_num_of_permutations)\n",
    "a = int((total_num_of_permutations * base_inversions_num + diff) / nod)\n",
    "b = int((total_num_of_permutations) / nod)\n",
    "print(f'{a}/{b}')"
   ]
  },
  {
   "cell_type": "code",
   "execution_count": 76,
   "id": "e8204d8d",
   "metadata": {},
   "outputs": [
    {
     "data": {
      "text/plain": [
       "3"
      ]
     },
     "execution_count": 76,
     "metadata": {},
     "output_type": "execute_result"
    }
   ],
   "source": [
    "def binary_search_count(arr, x):\n",
    "    low = 0\n",
    "    high = len(arr) - 1\n",
    "    mid = 0\n",
    "    \n",
    "    if x < arr[0]:\n",
    "        return len(arr)\n",
    "    \n",
    "    if x == arr[0]:\n",
    "        return len(arr) - 1\n",
    "    \n",
    "    if x > arr[-1]:\n",
    "        return 0\n",
    "    \n",
    "    if x == arr[-1]:\n",
    "        return 0\n",
    " \n",
    "    while low <= high:\n",
    " \n",
    "        mid = (high + low) // 2\n",
    " \n",
    "        # If x is greater, ignore left half\n",
    "        if x > arr[mid]:\n",
    "            low = mid + 1\n",
    " \n",
    "        # If x is smaller, ignore right half\n",
    "        elif x < arr[mid]:\n",
    "            high = mid - 1\n",
    " \n",
    "        # means x is present at mid\n",
    "        else:\n",
    "            return len(arr) - (mid + 1)\n",
    "        \n",
    " \n",
    "    # If we reach here, then the element was not present\n",
    "    return len(arr) - low\n",
    "\n",
    "binary_search_count([1, 8, 9, 12], 3)"
   ]
  },
  {
   "cell_type": "code",
   "execution_count": 77,
   "id": "7a12d4a6",
   "metadata": {},
   "outputs": [
    {
     "ename": "TypeError",
     "evalue": "'>' not supported between instances of 'set' and 'int'",
     "output_type": "error",
     "traceback": [
      "\u001b[0;31m---------------------------------------------------------------------------\u001b[0m",
      "\u001b[0;31mTypeError\u001b[0m                                 Traceback (most recent call last)",
      "Cell \u001b[0;32mIn[77], line 7\u001b[0m\n\u001b[1;32m      3\u001b[0m a\u001b[38;5;241m.\u001b[39madd(\u001b[38;5;241m1\u001b[39m)\n\u001b[1;32m      4\u001b[0m a\u001b[38;5;241m.\u001b[39madd(\u001b[38;5;241m3\u001b[39m)\n\u001b[0;32m----> 7\u001b[0m \u001b[43ma\u001b[49m\u001b[43m \u001b[49m\u001b[38;5;241;43m>\u001b[39;49m\u001b[43m \u001b[49m\u001b[38;5;241;43m2\u001b[39;49m\n",
      "\u001b[0;31mTypeError\u001b[0m: '>' not supported between instances of 'set' and 'int'"
     ]
    }
   ],
   "source": [
    "a = set()\n",
    "\n",
    "a.add(1)\n",
    "a.add(3)\n",
    "\n",
    "a."
   ]
  }
 ],
 "metadata": {
  "kernelspec": {
   "display_name": "Python 3 (ipykernel)",
   "language": "python",
   "name": "python3"
  },
  "language_info": {
   "codemirror_mode": {
    "name": "ipython",
    "version": 3
   },
   "file_extension": ".py",
   "mimetype": "text/x-python",
   "name": "python",
   "nbconvert_exporter": "python",
   "pygments_lexer": "ipython3",
   "version": "3.10.9"
  }
 },
 "nbformat": 4,
 "nbformat_minor": 5
}
