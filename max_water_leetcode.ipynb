{
 "cells": [
  {
   "cell_type": "code",
   "execution_count": 17,
   "id": "fa30f050-e803-4c80-8ca7-5bfa4059f014",
   "metadata": {},
   "outputs": [],
   "source": [
    "\n",
    "def maxArea(height):\n",
    "    left_bounds = []\n",
    "    right_bounds = []\n",
    "    \n",
    "    n = len(height)\n",
    "    \n",
    "    for i in range(len(height)):\n",
    "        if len(left_bounds) == 0 or height[left_bounds[-1]] < height[i]:\n",
    "            left_bounds.append(i)\n",
    "        \n",
    "        if len(right_bounds) == 0 or height[right_bounds[-1]] < height[n - 1 - i]:\n",
    "            right_bounds.append(n - 1 - i)\n",
    "        \n",
    "    l_n = len(left_bounds)\n",
    "    r_n = len(right_bounds)\n",
    "    \n",
    "    i = 0\n",
    "    j = 0\n",
    "    \n",
    "    max_water = 0\n",
    "\n",
    "    # print(left_bounds)\n",
    "    # print(right_bounds)\n",
    "    \n",
    "    while i < l_n or j < r_n:\n",
    "        if i >= l_n:\n",
    "            i = l_n - 1\n",
    "            \n",
    "        if j >= r_n:\n",
    "            j = r_n - 1\n",
    "        \n",
    "        res = min(height[left_bounds[i]], height[right_bounds[j]]) * (right_bounds[j] - left_bounds[i])\n",
    "        # print(res)\n",
    "        if res > max_water:\n",
    "            max_water = res\n",
    "        \n",
    "        if height[left_bounds[i]] < height[right_bounds[j]]:\n",
    "            i += 1\n",
    "        elif height[left_bounds[i]] > height[right_bounds[j]]:\n",
    "            j += 1\n",
    "        else:\n",
    "            i += 1\n",
    "            j += 1\n",
    "            \n",
    "    return max_water"
   ]
  },
  {
   "cell_type": "code",
   "execution_count": 19,
   "id": "3ae0ad93-8eef-4960-9483-192e5ab3bfaa",
   "metadata": {},
   "outputs": [
    {
     "name": "stdout",
     "output_type": "stream",
     "text": [
      "[0]\n",
      "[1]\n",
      "1\n"
     ]
    },
    {
     "data": {
      "text/plain": [
       "1"
      ]
     },
     "execution_count": 19,
     "metadata": {},
     "output_type": "execute_result"
    }
   ],
   "source": [
    "maxArea([1,1])"
   ]
  }
 ],
 "metadata": {
  "kernelspec": {
   "display_name": "Python 3 (ipykernel)",
   "language": "python",
   "name": "python3"
  },
  "language_info": {
   "codemirror_mode": {
    "name": "ipython",
    "version": 3
   },
   "file_extension": ".py",
   "mimetype": "text/x-python",
   "name": "python",
   "nbconvert_exporter": "python",
   "pygments_lexer": "ipython3",
   "version": "3.8.5"
  }
 },
 "nbformat": 4,
 "nbformat_minor": 5
}
